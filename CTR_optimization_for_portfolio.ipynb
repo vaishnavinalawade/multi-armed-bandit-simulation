{
 "cells": [
  {
   "cell_type": "code",
   "execution_count": 1,
   "metadata": {},
   "outputs": [],
   "source": [
    "from __future__ import print_function, division\n",
    "\n",
    "import numpy as np"
   ]
  },
  {
   "cell_type": "code",
   "execution_count": 2,
   "metadata": {},
   "outputs": [],
   "source": [
    "NUM_TRIALS = 100000"
   ]
  },
  {
   "cell_type": "code",
   "execution_count": 3,
   "metadata": {},
   "outputs": [],
   "source": [
    "class BanditTest(object):\n",
    "  def __init__(self, p):\n",
    "    self.p = p\n",
    "    \n",
    "    ##priors for the beta distribution\n",
    "    self.prior_alpha = 1\n",
    "    self.prior_beta = 1\n",
    "    \n",
    "    ##positive observations(clicks for a particular product)\n",
    "    self.num_pos = 0\n",
    "    \n",
    "    ##negative observations(clicks on the portfolio page)\n",
    "    self.num_neg = 0\n",
    "    \n",
    "    ##Portfolio id\n",
    "    self.portfolioId = \"\"\n",
    "\n",
    "\n",
    "  ##Draw a random sample from the posterior distribution\n",
    "  def sample(self):\n",
    "    return np.random.beta(self.prior_alpha, self.prior_beta)\n",
    "\n",
    "\n",
    "  ##Compute the parameters of the posterior \n",
    "  def compute_posterior(self):\n",
    "    self.prior_alpha = self.prior_alpha + self.num_pos\n",
    "    self.prior_beta = self.prior_beta  + self.num_neg\n",
    "  \n",
    "  ##Update observed clicks and impressions  \n",
    "  def update_observations(self, clicks, impressions, presentPortfolioId):\n",
    "   \n",
    "    self.num_pos = clicks\n",
    "    self.num_neg = impressions - clicks\n",
    "    self.portfolioId = presentPortfolioId"
   ]
  },
  {
   "cell_type": "code",
   "execution_count": 4,
   "metadata": {},
   "outputs": [
    {
     "name": "stdout",
     "output_type": "stream",
     "text": [
      "current samples: ['0.0747', '0.0673', '0.0828']\n",
      "current samples: ['0.0792', '0.0680', '0.0830']\n",
      "current samples: ['0.0767', '0.0716', '0.0817']\n",
      "current samples: ['0.0791', '0.0704', '0.0820']\n",
      "current samples: ['0.0768', '0.0713', '0.0810']\n",
      "current samples: ['0.0791', '0.0673', '0.0811']\n",
      "current samples: ['0.0768', '0.0701', '0.0825']\n",
      "current samples: ['0.0762', '0.0709', '0.0809']\n",
      "current samples: ['0.0787', '0.0693', '0.0820']\n",
      "current samples: ['0.0789', '0.0667', '0.0837']\n",
      "current samples: ['0.0814', '0.0699', '0.0807']\n",
      "current samples: ['0.0788', '0.0697', '0.0821']\n",
      "{'A': 0.13217, 'B': 0.0, 'E': 0.86783}\n"
     ]
    }
   ],
   "source": [
    "def runSimulation():\n",
    "    sample_points = [5,10,20,50,100,250,500,1000,1500,2000,3000,4500]\n",
    "    bandits = []\n",
    "    \n",
    "    bandit = BanditTest(.5)\n",
    "    bandit.update_observations( 1580, 20010, 'A')\n",
    "    bandit.compute_posterior()\n",
    "    bandits.append(bandit)\n",
    "    \n",
    "    bandit = BanditTest(.5)\n",
    "    bandit.update_observations( 1743, 25000, 'B')\n",
    "    bandit.compute_posterior()\n",
    "    bandits.append(bandit)\n",
    "    \n",
    "    bandit = BanditTest(.5)\n",
    "    bandit.update_observations( 1203, 20000, 'C')\n",
    "    bandit.compute_posterior()\n",
    "    \n",
    "    bandit = BanditTest(.5)\n",
    "    bandit.update_observations( 2883, 10900, 'D')\n",
    "    bandit.compute_posterior()\n",
    "    \n",
    "    bandit = BanditTest(.5)\n",
    "    bandit.update_observations( 1889, 23060, 'E')\n",
    "    bandit.compute_posterior()\n",
    "    \n",
    "    bandits.append(bandit)\n",
    "    \n",
    "    counts = {} \n",
    "    \n",
    "    ##Repeatedly sample the best variation\n",
    "    for i in range(NUM_TRIALS):\n",
    "\n",
    "        # take a sample from each bandit\n",
    "        bestb = None\n",
    "        maxsample = -1\n",
    "        allsamples = [] \n",
    "        for b in bandits:            \n",
    "          sample = b.sample()\n",
    "          allsamples.append(\"%.4f\" % sample)\n",
    "          if sample > maxsample:\n",
    "            maxsample = sample\n",
    "            bestb = b.portfolioId\n",
    "        counts[bestb] = counts.get(bestb, 0) + 1    \n",
    "        if i in sample_points:\n",
    "            print(\"current samples: %s\" % allsamples)\n",
    "            \n",
    "\n",
    " \n",
    "    ##Normalize the counts to get the traffic percenatge \n",
    "    normalized_counts = {}\n",
    "    for b in bandits:\n",
    "      normalized_counts[b.portfolioId] = float(counts.get(b.portfolioId, 0)) /NUM_TRIALS \n",
    "    print(normalized_counts)\n",
    "\n",
    "    \n",
    "                  \n",
    "if __name__ == \"__main__\":\n",
    "  runSimulation()"
   ]
  },
  {
   "cell_type": "code",
   "execution_count": null,
   "metadata": {},
   "outputs": [],
   "source": []
  }
 ],
 "metadata": {
  "kernelspec": {
   "display_name": "Python 3",
   "language": "python",
   "name": "python3"
  },
  "language_info": {
   "codemirror_mode": {
    "name": "ipython",
    "version": 3
   },
   "file_extension": ".py",
   "mimetype": "text/x-python",
   "name": "python",
   "nbconvert_exporter": "python",
   "pygments_lexer": "ipython3",
   "version": "3.7.4"
  }
 },
 "nbformat": 4,
 "nbformat_minor": 2
}
